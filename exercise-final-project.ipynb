{
 "cells": [
  {
   "cell_type": "markdown",
   "id": "5716a6bc",
   "metadata": {
    "papermill": {
     "duration": 0.00607,
     "end_time": "2022-08-14T02:30:41.614700",
     "exception": false,
     "start_time": "2022-08-14T02:30:41.608630",
     "status": "completed"
    },
    "tags": []
   },
   "source": [
    "**This notebook is an exercise in the [Data Visualization](https://www.kaggle.com/learn/data-visualization) course.  You can reference the tutorial at [this link](https://www.kaggle.com/alexisbcook/final-project).**\n",
    "\n",
    "---\n"
   ]
  },
  {
   "cell_type": "markdown",
   "id": "dff83b51",
   "metadata": {
    "papermill": {
     "duration": 0.003705,
     "end_time": "2022-08-14T02:30:41.622666",
     "exception": false,
     "start_time": "2022-08-14T02:30:41.618961",
     "status": "completed"
    },
    "tags": []
   },
   "source": [
    "Now it's time for you to demonstrate your new skills with a project of your own!\n",
    "\n",
    "In this exercise, you will work with a dataset of your choosing.  Once you've selected a dataset, you'll design and create your own plot to tell interesting stories behind the data!\n",
    "\n",
    "## Setup\n",
    "\n",
    "Run the next cell to import and configure the Python libraries that you need to complete the exercise."
   ]
  },
  {
   "cell_type": "code",
   "execution_count": 1,
   "id": "37e7c9dc",
   "metadata": {
    "execution": {
     "iopub.execute_input": "2022-08-14T02:30:41.632502Z",
     "iopub.status.busy": "2022-08-14T02:30:41.632072Z",
     "iopub.status.idle": "2022-08-14T02:30:42.637361Z",
     "shell.execute_reply": "2022-08-14T02:30:42.636203Z"
    },
    "papermill": {
     "duration": 1.014543,
     "end_time": "2022-08-14T02:30:42.641057",
     "exception": false,
     "start_time": "2022-08-14T02:30:41.626514",
     "status": "completed"
    },
    "tags": []
   },
   "outputs": [
    {
     "name": "stdout",
     "output_type": "stream",
     "text": [
      "Setup Complete\n"
     ]
    }
   ],
   "source": [
    "import pandas as pd\n",
    "pd.plotting.register_matplotlib_converters()\n",
    "import matplotlib.pyplot as plt\n",
    "%matplotlib inline\n",
    "import seaborn as sns\n",
    "print(\"Setup Complete\")"
   ]
  },
  {
   "cell_type": "markdown",
   "id": "d144cef6",
   "metadata": {
    "papermill": {
     "duration": 0.003936,
     "end_time": "2022-08-14T02:30:42.650067",
     "exception": false,
     "start_time": "2022-08-14T02:30:42.646131",
     "status": "completed"
    },
    "tags": []
   },
   "source": [
    "The questions below will give you feedback on your work. Run the following cell to set up the feedback system."
   ]
  },
  {
   "cell_type": "code",
   "execution_count": 2,
   "id": "190e67c2",
   "metadata": {
    "execution": {
     "iopub.execute_input": "2022-08-14T02:30:42.659604Z",
     "iopub.status.busy": "2022-08-14T02:30:42.659219Z",
     "iopub.status.idle": "2022-08-14T02:30:42.693312Z",
     "shell.execute_reply": "2022-08-14T02:30:42.692288Z"
    },
    "papermill": {
     "duration": 0.041372,
     "end_time": "2022-08-14T02:30:42.695461",
     "exception": false,
     "start_time": "2022-08-14T02:30:42.654089",
     "status": "completed"
    },
    "tags": []
   },
   "outputs": [
    {
     "name": "stdout",
     "output_type": "stream",
     "text": [
      "Setup Complete\n"
     ]
    }
   ],
   "source": [
    "# Set up code checking\n",
    "from learntools.core import binder\n",
    "binder.bind(globals())\n",
    "from learntools.data_viz_to_coder.ex7 import *\n",
    "print(\"Setup Complete\")"
   ]
  },
  {
   "cell_type": "code",
   "execution_count": 3,
   "id": "e8aa8d1d",
   "metadata": {
    "execution": {
     "iopub.execute_input": "2022-08-14T02:30:42.705118Z",
     "iopub.status.busy": "2022-08-14T02:30:42.704428Z",
     "iopub.status.idle": "2022-08-14T02:30:42.718062Z",
     "shell.execute_reply": "2022-08-14T02:30:42.717083Z"
    },
    "papermill": {
     "duration": 0.021976,
     "end_time": "2022-08-14T02:30:42.721520",
     "exception": false,
     "start_time": "2022-08-14T02:30:42.699544",
     "status": "completed"
    },
    "tags": []
   },
   "outputs": [
    {
     "data": {
      "application/javascript": [
       "parent.postMessage({\"jupyterEvent\": \"custom.exercise_interaction\", \"data\": {\"outcomeType\": 1, \"valueTowardsCompletion\": 0.25, \"interactionType\": 1, \"questionType\": 2, \"questionId\": \"1_AttachData\", \"learnToolsVersion\": \"0.3.4\", \"failureMessage\": \"\", \"exceptionClass\": \"\", \"trace\": \"\"}}, \"*\")"
      ],
      "text/plain": [
       "<IPython.core.display.Javascript object>"
      ]
     },
     "metadata": {},
     "output_type": "display_data"
    },
    {
     "data": {
      "text/markdown": [
       "<span style=\"color:#33cc33\">Correct:</span> \n",
       "\n"
      ],
      "text/plain": [
       "Correct: \n"
      ]
     },
     "metadata": {},
     "output_type": "display_data"
    }
   ],
   "source": [
    "# Check for a dataset with a CSV file\n",
    "step_1.check()"
   ]
  },
  {
   "cell_type": "markdown",
   "id": "82b0375a",
   "metadata": {
    "papermill": {
     "duration": 0.004122,
     "end_time": "2022-08-14T02:30:42.729963",
     "exception": false,
     "start_time": "2022-08-14T02:30:42.725841",
     "status": "completed"
    },
    "tags": []
   },
   "source": [
    "## Step 1: Attach a dataset to the notebook\n",
    "\n",
    "Begin by selecting a CSV dataset from [Kaggle Datasets](https://www.kaggle.com/datasets).  If you're unsure how to do this, please revisit the instructions in the previous tutorial.\n",
    "\n",
    "Once you have selected a dataset, click on the **[+ Add data]** option in the top right corner.  This will generate a pop-up window that you can use to search for your chosen dataset.  \n",
    "\n",
    "![ex6_search_dataset](https://i.imgur.com/cIIWPUS.png)\n",
    "\n",
    "Once you have found the dataset, click on the **[Add]** button to attach it to the notebook.  You can check that it was successful by looking at the **Data** dropdown menu to the right of the notebook -- look for an **input** folder containing a subfolder that matches the name of the dataset.\n",
    "\n",
    "<center>\n",
    "<img src=\"https://i.imgur.com/nMYc1Nu.png\" width=30%><br/>\n",
    "</center>\n",
    "\n",
    "You can click on the carat to the left of the name of the dataset to double-check that it contains a CSV file.  For instance, the image below shows that the example dataset contains two CSV files: (1) **dc-wikia-data.csv**, and (2) **marvel-wikia-data.csv**.\n",
    "\n",
    "<center>\n",
    "<img src=\"https://i.imgur.com/B4sJkVA.png\" width=30%><br/>\n",
    "</center>\n",
    "\n",
    "Once you've uploaded a dataset with a CSV file, run the code cell below **without changes** to receive credit for your work!"
   ]
  },
  {
   "cell_type": "markdown",
   "id": "23ce534f",
   "metadata": {
    "papermill": {
     "duration": 0.004092,
     "end_time": "2022-08-14T02:30:42.738280",
     "exception": false,
     "start_time": "2022-08-14T02:30:42.734188",
     "status": "completed"
    },
    "tags": []
   },
   "source": [
    "## Step 2: Specify the filepath\n",
    "\n",
    "Now that the dataset is attached to the notebook, you can find its filepath.  To do this, begin by clicking on the CSV file you'd like to use.  This will open the CSV file in a tab below the notebook.  You can find the filepath towards the top of this new tab.  \n",
    "\n",
    "![ex6_filepath](https://i.imgur.com/fgXQV47.png)\n",
    "\n",
    "After you find the filepath corresponding to your dataset, fill it in as the value for `my_filepath` in the code cell below, and run the code cell to check that you've provided a valid filepath.  For instance, in the case of this example dataset, we would set\n",
    "```\n",
    "my_filepath = \"../input/fivethirtyeight-comic-characters-dataset/dc-wikia-data.csv\"\n",
    "```  \n",
    "Note that **you must enclose the filepath in quotation marks**; otherwise, the code will return an error.\n",
    "\n",
    "Once you've entered the filepath, you can close the tab below the notebook by clicking on the **[X]** at the top of the tab."
   ]
  },
  {
   "cell_type": "code",
   "execution_count": 4,
   "id": "38551173",
   "metadata": {
    "execution": {
     "iopub.execute_input": "2022-08-14T02:30:42.749222Z",
     "iopub.status.busy": "2022-08-14T02:30:42.748470Z",
     "iopub.status.idle": "2022-08-14T02:30:42.757876Z",
     "shell.execute_reply": "2022-08-14T02:30:42.756929Z"
    },
    "papermill": {
     "duration": 0.017528,
     "end_time": "2022-08-14T02:30:42.760079",
     "exception": false,
     "start_time": "2022-08-14T02:30:42.742551",
     "status": "completed"
    },
    "tags": []
   },
   "outputs": [
    {
     "data": {
      "application/javascript": [
       "parent.postMessage({\"jupyterEvent\": \"custom.exercise_interaction\", \"data\": {\"outcomeType\": 1, \"valueTowardsCompletion\": 0.25, \"interactionType\": 1, \"questionType\": 2, \"questionId\": \"2_Filepath\", \"learnToolsVersion\": \"0.3.4\", \"failureMessage\": \"\", \"exceptionClass\": \"\", \"trace\": \"\"}}, \"*\")"
      ],
      "text/plain": [
       "<IPython.core.display.Javascript object>"
      ]
     },
     "metadata": {},
     "output_type": "display_data"
    },
    {
     "data": {
      "text/markdown": [
       "<span style=\"color:#33cc33\">Correct:</span> \n",
       "\n"
      ],
      "text/plain": [
       "Correct: \n"
      ]
     },
     "metadata": {},
     "output_type": "display_data"
    }
   ],
   "source": [
    "# Fill in the line below: Specify the path of the CSV file to read\n",
    "my_filepath = '../input/fivethirtyeight-comic-characters-dataset/marvel-wikia-data.csv'\n",
    "\n",
    "# Check for a valid filepath to a CSV file in a dataset\n",
    "step_2.check()"
   ]
  },
  {
   "cell_type": "markdown",
   "id": "bf76be26",
   "metadata": {
    "papermill": {
     "duration": 0.004307,
     "end_time": "2022-08-14T02:30:42.768995",
     "exception": false,
     "start_time": "2022-08-14T02:30:42.764688",
     "status": "completed"
    },
    "tags": []
   },
   "source": [
    "## Step 3: Load the data\n",
    "\n",
    "Use the next code cell to load your data file into `my_data`.  Use the filepath that you specified in the previous step."
   ]
  },
  {
   "cell_type": "code",
   "execution_count": 5,
   "id": "43bd4314",
   "metadata": {
    "execution": {
     "iopub.execute_input": "2022-08-14T02:30:42.780096Z",
     "iopub.status.busy": "2022-08-14T02:30:42.779358Z",
     "iopub.status.idle": "2022-08-14T02:30:42.913994Z",
     "shell.execute_reply": "2022-08-14T02:30:42.913104Z"
    },
    "papermill": {
     "duration": 0.143511,
     "end_time": "2022-08-14T02:30:42.916956",
     "exception": false,
     "start_time": "2022-08-14T02:30:42.773445",
     "status": "completed"
    },
    "tags": []
   },
   "outputs": [
    {
     "data": {
      "application/javascript": [
       "parent.postMessage({\"jupyterEvent\": \"custom.exercise_interaction\", \"data\": {\"outcomeType\": 1, \"valueTowardsCompletion\": 0.25, \"interactionType\": 1, \"questionType\": 2, \"questionId\": \"3_LoadData\", \"learnToolsVersion\": \"0.3.4\", \"failureMessage\": \"\", \"exceptionClass\": \"\", \"trace\": \"\"}}, \"*\")"
      ],
      "text/plain": [
       "<IPython.core.display.Javascript object>"
      ]
     },
     "metadata": {},
     "output_type": "display_data"
    },
    {
     "data": {
      "text/markdown": [
       "<span style=\"color:#33cc33\">Correct:</span> \n",
       "\n"
      ],
      "text/plain": [
       "Correct: \n"
      ]
     },
     "metadata": {},
     "output_type": "display_data"
    }
   ],
   "source": [
    "# Fill in the line below: Read the file into a variable my_data\n",
    "my_data = pd.read_csv(my_filepath)\n",
    "\n",
    "# Check that a dataset has been uploaded into my_data\n",
    "step_3.check()"
   ]
  },
  {
   "cell_type": "markdown",
   "id": "cac43966",
   "metadata": {
    "papermill": {
     "duration": 0.005845,
     "end_time": "2022-08-14T02:30:42.929243",
     "exception": false,
     "start_time": "2022-08-14T02:30:42.923398",
     "status": "completed"
    },
    "tags": []
   },
   "source": [
    "**_After the code cell above is marked correct_**, run the code cell below without changes to view the first five rows of the data."
   ]
  },
  {
   "cell_type": "code",
   "execution_count": 6,
   "id": "284a2939",
   "metadata": {
    "execution": {
     "iopub.execute_input": "2022-08-14T02:30:42.942810Z",
     "iopub.status.busy": "2022-08-14T02:30:42.941041Z",
     "iopub.status.idle": "2022-08-14T02:30:42.967841Z",
     "shell.execute_reply": "2022-08-14T02:30:42.966727Z"
    },
    "papermill": {
     "duration": 0.035765,
     "end_time": "2022-08-14T02:30:42.969986",
     "exception": false,
     "start_time": "2022-08-14T02:30:42.934221",
     "status": "completed"
    },
    "tags": []
   },
   "outputs": [
    {
     "data": {
      "text/html": [
       "<div>\n",
       "<style scoped>\n",
       "    .dataframe tbody tr th:only-of-type {\n",
       "        vertical-align: middle;\n",
       "    }\n",
       "\n",
       "    .dataframe tbody tr th {\n",
       "        vertical-align: top;\n",
       "    }\n",
       "\n",
       "    .dataframe thead th {\n",
       "        text-align: right;\n",
       "    }\n",
       "</style>\n",
       "<table border=\"1\" class=\"dataframe\">\n",
       "  <thead>\n",
       "    <tr style=\"text-align: right;\">\n",
       "      <th></th>\n",
       "      <th>page_id</th>\n",
       "      <th>name</th>\n",
       "      <th>urlslug</th>\n",
       "      <th>ID</th>\n",
       "      <th>ALIGN</th>\n",
       "      <th>EYE</th>\n",
       "      <th>HAIR</th>\n",
       "      <th>SEX</th>\n",
       "      <th>GSM</th>\n",
       "      <th>ALIVE</th>\n",
       "      <th>APPEARANCES</th>\n",
       "      <th>FIRST APPEARANCE</th>\n",
       "      <th>Year</th>\n",
       "    </tr>\n",
       "  </thead>\n",
       "  <tbody>\n",
       "    <tr>\n",
       "      <th>0</th>\n",
       "      <td>1678</td>\n",
       "      <td>Spider-Man (Peter Parker)</td>\n",
       "      <td>\\/Spider-Man_(Peter_Parker)</td>\n",
       "      <td>Secret Identity</td>\n",
       "      <td>Good Characters</td>\n",
       "      <td>Hazel Eyes</td>\n",
       "      <td>Brown Hair</td>\n",
       "      <td>Male Characters</td>\n",
       "      <td>NaN</td>\n",
       "      <td>Living Characters</td>\n",
       "      <td>4043.0</td>\n",
       "      <td>Aug-62</td>\n",
       "      <td>1962.0</td>\n",
       "    </tr>\n",
       "    <tr>\n",
       "      <th>1</th>\n",
       "      <td>7139</td>\n",
       "      <td>Captain America (Steven Rogers)</td>\n",
       "      <td>\\/Captain_America_(Steven_Rogers)</td>\n",
       "      <td>Public Identity</td>\n",
       "      <td>Good Characters</td>\n",
       "      <td>Blue Eyes</td>\n",
       "      <td>White Hair</td>\n",
       "      <td>Male Characters</td>\n",
       "      <td>NaN</td>\n",
       "      <td>Living Characters</td>\n",
       "      <td>3360.0</td>\n",
       "      <td>Mar-41</td>\n",
       "      <td>1941.0</td>\n",
       "    </tr>\n",
       "    <tr>\n",
       "      <th>2</th>\n",
       "      <td>64786</td>\n",
       "      <td>Wolverine (James \\\"Logan\\\" Howlett)</td>\n",
       "      <td>\\/Wolverine_(James_%22Logan%22_Howlett)</td>\n",
       "      <td>Public Identity</td>\n",
       "      <td>Neutral Characters</td>\n",
       "      <td>Blue Eyes</td>\n",
       "      <td>Black Hair</td>\n",
       "      <td>Male Characters</td>\n",
       "      <td>NaN</td>\n",
       "      <td>Living Characters</td>\n",
       "      <td>3061.0</td>\n",
       "      <td>Oct-74</td>\n",
       "      <td>1974.0</td>\n",
       "    </tr>\n",
       "    <tr>\n",
       "      <th>3</th>\n",
       "      <td>1868</td>\n",
       "      <td>Iron Man (Anthony \\\"Tony\\\" Stark)</td>\n",
       "      <td>\\/Iron_Man_(Anthony_%22Tony%22_Stark)</td>\n",
       "      <td>Public Identity</td>\n",
       "      <td>Good Characters</td>\n",
       "      <td>Blue Eyes</td>\n",
       "      <td>Black Hair</td>\n",
       "      <td>Male Characters</td>\n",
       "      <td>NaN</td>\n",
       "      <td>Living Characters</td>\n",
       "      <td>2961.0</td>\n",
       "      <td>Mar-63</td>\n",
       "      <td>1963.0</td>\n",
       "    </tr>\n",
       "    <tr>\n",
       "      <th>4</th>\n",
       "      <td>2460</td>\n",
       "      <td>Thor (Thor Odinson)</td>\n",
       "      <td>\\/Thor_(Thor_Odinson)</td>\n",
       "      <td>No Dual Identity</td>\n",
       "      <td>Good Characters</td>\n",
       "      <td>Blue Eyes</td>\n",
       "      <td>Blond Hair</td>\n",
       "      <td>Male Characters</td>\n",
       "      <td>NaN</td>\n",
       "      <td>Living Characters</td>\n",
       "      <td>2258.0</td>\n",
       "      <td>Nov-50</td>\n",
       "      <td>1950.0</td>\n",
       "    </tr>\n",
       "  </tbody>\n",
       "</table>\n",
       "</div>"
      ],
      "text/plain": [
       "   page_id                                 name  \\\n",
       "0     1678            Spider-Man (Peter Parker)   \n",
       "1     7139      Captain America (Steven Rogers)   \n",
       "2    64786  Wolverine (James \\\"Logan\\\" Howlett)   \n",
       "3     1868    Iron Man (Anthony \\\"Tony\\\" Stark)   \n",
       "4     2460                  Thor (Thor Odinson)   \n",
       "\n",
       "                                   urlslug                ID  \\\n",
       "0              \\/Spider-Man_(Peter_Parker)   Secret Identity   \n",
       "1        \\/Captain_America_(Steven_Rogers)   Public Identity   \n",
       "2  \\/Wolverine_(James_%22Logan%22_Howlett)   Public Identity   \n",
       "3    \\/Iron_Man_(Anthony_%22Tony%22_Stark)   Public Identity   \n",
       "4                    \\/Thor_(Thor_Odinson)  No Dual Identity   \n",
       "\n",
       "                ALIGN         EYE        HAIR              SEX  GSM  \\\n",
       "0     Good Characters  Hazel Eyes  Brown Hair  Male Characters  NaN   \n",
       "1     Good Characters   Blue Eyes  White Hair  Male Characters  NaN   \n",
       "2  Neutral Characters   Blue Eyes  Black Hair  Male Characters  NaN   \n",
       "3     Good Characters   Blue Eyes  Black Hair  Male Characters  NaN   \n",
       "4     Good Characters   Blue Eyes  Blond Hair  Male Characters  NaN   \n",
       "\n",
       "               ALIVE  APPEARANCES FIRST APPEARANCE    Year  \n",
       "0  Living Characters       4043.0           Aug-62  1962.0  \n",
       "1  Living Characters       3360.0           Mar-41  1941.0  \n",
       "2  Living Characters       3061.0           Oct-74  1974.0  \n",
       "3  Living Characters       2961.0           Mar-63  1963.0  \n",
       "4  Living Characters       2258.0           Nov-50  1950.0  "
      ]
     },
     "execution_count": 6,
     "metadata": {},
     "output_type": "execute_result"
    }
   ],
   "source": [
    "# Print the first five rows of the data\n",
    "my_data.head()"
   ]
  },
  {
   "cell_type": "markdown",
   "id": "d163aa58",
   "metadata": {
    "papermill": {
     "duration": 0.004764,
     "end_time": "2022-08-14T02:30:42.979832",
     "exception": false,
     "start_time": "2022-08-14T02:30:42.975068",
     "status": "completed"
    },
    "tags": []
   },
   "source": [
    "## Step 4: Visualize the data\n",
    "\n",
    "Use the next code cell to create a figure that tells a story behind your dataset.  You can use any chart type (_line chart, bar chart, heatmap, etc_) of your choosing!"
   ]
  },
  {
   "cell_type": "code",
   "execution_count": 7,
   "id": "3709e503",
   "metadata": {
    "execution": {
     "iopub.execute_input": "2022-08-14T02:30:42.991271Z",
     "iopub.status.busy": "2022-08-14T02:30:42.990440Z",
     "iopub.status.idle": "2022-08-14T02:30:43.447586Z",
     "shell.execute_reply": "2022-08-14T02:30:43.446269Z"
    },
    "papermill": {
     "duration": 0.46532,
     "end_time": "2022-08-14T02:30:43.449996",
     "exception": false,
     "start_time": "2022-08-14T02:30:42.984676",
     "status": "completed"
    },
    "tags": []
   },
   "outputs": [
    {
     "data": {
      "application/javascript": [
       "parent.postMessage({\"jupyterEvent\": \"custom.exercise_interaction\", \"data\": {\"outcomeType\": 1, \"valueTowardsCompletion\": 0.25, \"interactionType\": 1, \"questionType\": 2, \"questionId\": \"4_CreatePlot\", \"learnToolsVersion\": \"0.3.4\", \"failureMessage\": \"\", \"exceptionClass\": \"\", \"trace\": \"\"}}, \"*\")"
      ],
      "text/plain": [
       "<IPython.core.display.Javascript object>"
      ]
     },
     "metadata": {},
     "output_type": "display_data"
    },
    {
     "data": {
      "text/markdown": [
       "<span style=\"color:#33cc33\">Correct:</span> \n",
       "\n"
      ],
      "text/plain": [
       "Correct: \n"
      ]
     },
     "metadata": {},
     "output_type": "display_data"
    },
    {
     "data": {
      "image/png": "[encoded data removed]",
      "text/plain": [
       "<Figure size 1152x504 with 1 Axes>"
      ]
     },
     "metadata": {
      "needs_background": "light"
     },
     "output_type": "display_data"
    }
   ],
   "source": [
    "# Create a plot\n",
    "____ # Your code here\n",
    "plt.figure(figsize=(16,7))\n",
    "sns.kdeplot(data=my_data, x='APPEARANCES', hue='SEX')\n",
    "\n",
    "# Check that a figure appears below\n",
    "step_4.check()"
   ]
  },
  {
   "cell_type": "markdown",
   "id": "708ab136",
   "metadata": {
    "papermill": {
     "duration": 0.00554,
     "end_time": "2022-08-14T02:30:43.461869",
     "exception": false,
     "start_time": "2022-08-14T02:30:43.456329",
     "status": "completed"
    },
    "tags": []
   },
   "source": [
    "## Keep going\n",
    "\n",
    "Learn how to use your skills after completing the micro-course to create data visualizations in a **[final tutorial](https://www.kaggle.com/alexisbcook/creating-your-own-notebooks)**."
   ]
  },
  {
   "cell_type": "markdown",
   "id": "99b10dde",
   "metadata": {
    "papermill": {
     "duration": 0.005397,
     "end_time": "2022-08-14T02:30:43.472875",
     "exception": false,
     "start_time": "2022-08-14T02:30:43.467478",
     "status": "completed"
    },
    "tags": []
   },
   "source": [
    "---\n",
    "\n",
    "\n",
    "\n",
    "\n",
    "*Have questions or comments? Visit the [course discussion forum](https://www.kaggle.com/learn/data-visualization/discussion) to chat with other learners.*"
   ]
  }
 ],
 "metadata": {
  "kernelspec": {
   "display_name": "Python 3",
   "language": "python",
   "name": "python3"
  },
  "language_info": {
   "codemirror_mode": {
    "name": "ipython",
    "version": 3
   },
   "file_extension": ".py",
   "mimetype": "text/x-python",
   "name": "python",
   "nbconvert_exporter": "python",
   "pygments_lexer": "ipython3",
   "version": "3.7.12"
  },
  "papermill": {
   "default_parameters": {},
   "duration": 11.079684,
   "end_time": "2022-08-14T02:30:44.099355",
   "environment_variables": {},
   "exception": null,
   "input_path": "__notebook__.ipynb",
   "output_path": "__notebook__.ipynb",
   "parameters": {},
   "start_time": "2022-08-14T02:30:33.019671",
   "version": "2.3.4"
  }
 },
 "nbformat": 4,
 "nbformat_minor": 5
}
