{
 "cells": [
  {
   "cell_type": "markdown",
   "id": "b9505b32",
   "metadata": {
    "papermill": {
     "duration": 0.008063,
     "end_time": "2022-08-14T00:27:54.195026",
     "exception": false,
     "start_time": "2022-08-14T00:27:54.186963",
     "status": "completed"
    },
    "tags": []
   },
   "source": [
    "**This notebook is an exercise in the [Data Visualization](https://www.kaggle.com/learn/data-visualization) course.  You can reference the tutorial at [this link](https://www.kaggle.com/alexisbcook/scatter-plots).**\n",
    "\n",
    "---\n"
   ]
  },
  {
   "cell_type": "markdown",
   "id": "a10005ab",
   "metadata": {
    "papermill": {
     "duration": 0.006803,
     "end_time": "2022-08-14T00:27:54.209146",
     "exception": false,
     "start_time": "2022-08-14T00:27:54.202343",
     "status": "completed"
    },
    "tags": []
   },
   "source": [
    "In this exercise, you will use your new knowledge to propose a solution to a real-world scenario.  To succeed, you will need to import data into Python, answer questions using the data, and generate **scatter plots** to understand patterns in the data.\n",
    "\n",
    "## Scenario\n",
    "\n",
    "You work for a major candy producer, and your goal is to write a report that your company can use to guide the design of its next product.  Soon after starting your research, you stumble across this [very interesting dataset](https://fivethirtyeight.com/features/the-ultimate-halloween-candy-power-ranking/) containing results from a fun survey to crowdsource favorite candies.\n",
    "\n",
    "## Setup\n",
    "\n",
    "Run the next cell to import and configure the Python libraries that you need to complete the exercise."
   ]
  },
  {
   "cell_type": "code",
   "execution_count": 1,
   "id": "20270cee",
   "metadata": {
    "execution": {
     "iopub.execute_input": "2022-08-14T00:27:54.224385Z",
     "iopub.status.busy": "2022-08-14T00:27:54.223946Z",
     "iopub.status.idle": "2022-08-14T00:27:55.244563Z",
     "shell.execute_reply": "2022-08-14T00:27:55.243632Z"
    },
    "papermill": {
     "duration": 1.030296,
     "end_time": "2022-08-14T00:27:55.246312",
     "exception": false,
     "start_time": "2022-08-14T00:27:54.216016",
     "status": "completed"
    },
    "tags": []
   },
   "outputs": [
    {
     "name": "stdout",
     "output_type": "stream",
     "text": [
      "Setup Complete\n"
     ]
    }
   ],
   "source": [
    "import pandas as pd\n",
    "pd.plotting.register_matplotlib_converters()\n",
    "import matplotlib.pyplot as plt\n",
    "%matplotlib inline\n",
    "import seaborn as sns\n",
    "print(\"Setup Complete\")"
   ]
  },
  {
   "cell_type": "markdown",
   "id": "81e5146e",
   "metadata": {
    "papermill": {
     "duration": 0.006892,
     "end_time": "2022-08-14T00:27:55.261246",
     "exception": false,
     "start_time": "2022-08-14T00:27:55.254354",
     "status": "completed"
    },
    "tags": []
   },
   "source": [
    "The questions below will give you feedback on your work. Run the following cell to set up our feedback system."
   ]
  },
  {
   "cell_type": "code",
   "execution_count": 2,
   "id": "5658a411",
   "metadata": {
    "execution": {
     "iopub.execute_input": "2022-08-14T00:27:55.277576Z",
     "iopub.status.busy": "2022-08-14T00:27:55.276712Z",
     "iopub.status.idle": "2022-08-14T00:27:55.346065Z",
     "shell.execute_reply": "2022-08-14T00:27:55.344588Z"
    },
    "papermill": {
     "duration": 0.079662,
     "end_time": "2022-08-14T00:27:55.348170",
     "exception": false,
     "start_time": "2022-08-14T00:27:55.268508",
     "status": "completed"
    },
    "tags": []
   },
   "outputs": [
    {
     "name": "stdout",
     "output_type": "stream",
     "text": [
      "Setup Complete\n"
     ]
    }
   ],
   "source": [
    "# Set up code checking\n",
    "import os\n",
    "if not os.path.exists(\"../input/candy.csv\"):\n",
    "    os.symlink(\"../input/data-for-datavis/candy.csv\", \"../input/candy.csv\") \n",
    "from learntools.core import binder\n",
    "binder.bind(globals())\n",
    "from learntools.data_viz_to_coder.ex4 import *\n",
    "print(\"Setup Complete\")"
   ]
  },
  {
   "cell_type": "markdown",
   "id": "5b773658",
   "metadata": {
    "papermill": {
     "duration": 0.006995,
     "end_time": "2022-08-14T00:27:55.362998",
     "exception": false,
     "start_time": "2022-08-14T00:27:55.356003",
     "status": "completed"
    },
    "tags": []
   },
   "source": [
    "## Step 1: Load the Data\n",
    "\n",
    "Read the candy data file into `candy_data`.  Use the `\"id\"` column to label the rows."
   ]
  },
  {
   "cell_type": "code",
   "execution_count": 3,
   "id": "4900d951",
   "metadata": {
    "execution": {
     "iopub.execute_input": "2022-08-14T00:27:55.379831Z",
     "iopub.status.busy": "2022-08-14T00:27:55.379314Z",
     "iopub.status.idle": "2022-08-14T00:27:55.391558Z",
     "shell.execute_reply": "2022-08-14T00:27:55.390689Z"
    },
    "papermill": {
     "duration": 0.022918,
     "end_time": "2022-08-14T00:27:55.393312",
     "exception": false,
     "start_time": "2022-08-14T00:27:55.370394",
     "status": "completed"
    },
    "tags": []
   },
   "outputs": [
    {
     "data": {
      "application/javascript": [
       "parent.postMessage({\"jupyterEvent\": \"custom.exercise_interaction\", \"data\": {\"outcomeType\": 1, \"valueTowardsCompletion\": 0.3333333333333333, \"interactionType\": 1, \"questionType\": 1, \"questionId\": \"1_LoadData\", \"learnToolsVersion\": \"0.3.4\", \"failureMessage\": \"\", \"exceptionClass\": \"\", \"trace\": \"\"}}, \"*\")"
      ],
      "text/plain": [
       "<IPython.core.display.Javascript object>"
      ]
     },
     "metadata": {},
     "output_type": "display_data"
    },
    {
     "data": {
      "text/markdown": [
       "<span style=\"color:#33cc33\">Correct</span>"
      ],
      "text/plain": [
       "Correct"
      ]
     },
     "metadata": {},
     "output_type": "display_data"
    }
   ],
   "source": [
    "# Path of the file to read\n",
    "candy_filepath = \"../input/candy.csv\"\n",
    "\n",
    "# Fill in the line below to read the file into a variable candy_data\n",
    "candy_data = pd.read_csv(candy_filepath , index_col = \"id\" )\n",
    "\n",
    "# Run the line below with no changes to check that you've loaded the data correctly\n",
    "step_1.check()"
   ]
  },
  {
   "cell_type": "code",
   "execution_count": 4,
   "id": "fef77d87",
   "metadata": {
    "execution": {
     "iopub.execute_input": "2022-08-14T00:27:55.410026Z",
     "iopub.status.busy": "2022-08-14T00:27:55.409349Z",
     "iopub.status.idle": "2022-08-14T00:27:55.412764Z",
     "shell.execute_reply": "2022-08-14T00:27:55.412189Z"
    },
    "papermill": {
     "duration": 0.013097,
     "end_time": "2022-08-14T00:27:55.414225",
     "exception": false,
     "start_time": "2022-08-14T00:27:55.401128",
     "status": "completed"
    },
    "tags": []
   },
   "outputs": [],
   "source": [
    "# Lines below will give you a hint or solution code\n",
    "#step_1.hint()\n",
    "#step_1.solution()"
   ]
  },
  {
   "cell_type": "markdown",
   "id": "98bed90d",
   "metadata": {
    "papermill": {
     "duration": 0.006952,
     "end_time": "2022-08-14T00:27:55.428510",
     "exception": false,
     "start_time": "2022-08-14T00:27:55.421558",
     "status": "completed"
    },
    "tags": []
   },
   "source": [
    "## Step 2: Review the data\n",
    "\n",
    "Use a Python command to print the first five rows of the data."
   ]
  },
  {
   "cell_type": "code",
   "execution_count": 5,
   "id": "bf960130",
   "metadata": {
    "execution": {
     "iopub.execute_input": "2022-08-14T00:27:55.444434Z",
     "iopub.status.busy": "2022-08-14T00:27:55.443903Z",
     "iopub.status.idle": "2022-08-14T00:27:55.461632Z",
     "shell.execute_reply": "2022-08-14T00:27:55.461045Z"
    },
    "papermill": {
     "duration": 0.027342,
     "end_time": "2022-08-14T00:27:55.463119",
     "exception": false,
     "start_time": "2022-08-14T00:27:55.435777",
     "status": "completed"
    },
    "tags": []
   },
   "outputs": [
    {
     "data": {
      "text/html": [
       "<div>\n",
       "<style scoped>\n",
       "    .dataframe tbody tr th:only-of-type {\n",
       "        vertical-align: middle;\n",
       "    }\n",
       "\n",
       "    .dataframe tbody tr th {\n",
       "        vertical-align: top;\n",
       "    }\n",
       "\n",
       "    .dataframe thead th {\n",
       "        text-align: right;\n",
       "    }\n",
       "</style>\n",
       "<table border=\"1\" class=\"dataframe\">\n",
       "  <thead>\n",
       "    <tr style=\"text-align: right;\">\n",
       "      <th></th>\n",
       "      <th>competitorname</th>\n",
       "      <th>chocolate</th>\n",
       "      <th>fruity</th>\n",
       "      <th>caramel</th>\n",
       "      <th>peanutyalmondy</th>\n",
       "      <th>nougat</th>\n",
       "      <th>crispedricewafer</th>\n",
       "      <th>hard</th>\n",
       "      <th>bar</th>\n",
       "      <th>pluribus</th>\n",
       "      <th>sugarpercent</th>\n",
       "      <th>pricepercent</th>\n",
       "      <th>winpercent</th>\n",
       "    </tr>\n",
       "    <tr>\n",
       "      <th>id</th>\n",
       "      <th></th>\n",
       "      <th></th>\n",
       "      <th></th>\n",
       "      <th></th>\n",
       "      <th></th>\n",
       "      <th></th>\n",
       "      <th></th>\n",
       "      <th></th>\n",
       "      <th></th>\n",
       "      <th></th>\n",
       "      <th></th>\n",
       "      <th></th>\n",
       "      <th></th>\n",
       "    </tr>\n",
       "  </thead>\n",
       "  <tbody>\n",
       "    <tr>\n",
       "      <th>0</th>\n",
       "      <td>100 Grand</td>\n",
       "      <td>Yes</td>\n",
       "      <td>No</td>\n",
       "      <td>Yes</td>\n",
       "      <td>No</td>\n",
       "      <td>No</td>\n",
       "      <td>Yes</td>\n",
       "      <td>No</td>\n",
       "      <td>Yes</td>\n",
       "      <td>No</td>\n",
       "      <td>0.732</td>\n",
       "      <td>0.860</td>\n",
       "      <td>66.971725</td>\n",
       "    </tr>\n",
       "    <tr>\n",
       "      <th>1</th>\n",
       "      <td>3 Musketeers</td>\n",
       "      <td>Yes</td>\n",
       "      <td>No</td>\n",
       "      <td>No</td>\n",
       "      <td>No</td>\n",
       "      <td>Yes</td>\n",
       "      <td>No</td>\n",
       "      <td>No</td>\n",
       "      <td>Yes</td>\n",
       "      <td>No</td>\n",
       "      <td>0.604</td>\n",
       "      <td>0.511</td>\n",
       "      <td>67.602936</td>\n",
       "    </tr>\n",
       "    <tr>\n",
       "      <th>2</th>\n",
       "      <td>Air Heads</td>\n",
       "      <td>No</td>\n",
       "      <td>Yes</td>\n",
       "      <td>No</td>\n",
       "      <td>No</td>\n",
       "      <td>No</td>\n",
       "      <td>No</td>\n",
       "      <td>No</td>\n",
       "      <td>No</td>\n",
       "      <td>No</td>\n",
       "      <td>0.906</td>\n",
       "      <td>0.511</td>\n",
       "      <td>52.341465</td>\n",
       "    </tr>\n",
       "    <tr>\n",
       "      <th>3</th>\n",
       "      <td>Almond Joy</td>\n",
       "      <td>Yes</td>\n",
       "      <td>No</td>\n",
       "      <td>No</td>\n",
       "      <td>Yes</td>\n",
       "      <td>No</td>\n",
       "      <td>No</td>\n",
       "      <td>No</td>\n",
       "      <td>Yes</td>\n",
       "      <td>No</td>\n",
       "      <td>0.465</td>\n",
       "      <td>0.767</td>\n",
       "      <td>50.347546</td>\n",
       "    </tr>\n",
       "    <tr>\n",
       "      <th>4</th>\n",
       "      <td>Baby Ruth</td>\n",
       "      <td>Yes</td>\n",
       "      <td>No</td>\n",
       "      <td>Yes</td>\n",
       "      <td>Yes</td>\n",
       "      <td>Yes</td>\n",
       "      <td>No</td>\n",
       "      <td>No</td>\n",
       "      <td>Yes</td>\n",
       "      <td>No</td>\n",
       "      <td>0.604</td>\n",
       "      <td>0.767</td>\n",
       "      <td>56.914547</td>\n",
       "    </tr>\n",
       "  </tbody>\n",
       "</table>\n",
       "</div>"
      ],
      "text/plain": [
       "   competitorname chocolate fruity caramel peanutyalmondy nougat  \\\n",
       "id                                                                 \n",
       "0       100 Grand       Yes     No     Yes             No     No   \n",
       "1    3 Musketeers       Yes     No      No             No    Yes   \n",
       "2       Air Heads        No    Yes      No             No     No   \n",
       "3      Almond Joy       Yes     No      No            Yes     No   \n",
       "4       Baby Ruth       Yes     No     Yes            Yes    Yes   \n",
       "\n",
       "   crispedricewafer hard  bar pluribus  sugarpercent  pricepercent  winpercent  \n",
       "id                                                                              \n",
       "0               Yes   No  Yes       No         0.732         0.860   66.971725  \n",
       "1                No   No  Yes       No         0.604         0.511   67.602936  \n",
       "2                No   No   No       No         0.906         0.511   52.341465  \n",
       "3                No   No  Yes       No         0.465         0.767   50.347546  \n",
       "4                No   No  Yes       No         0.604         0.767   56.914547  "
      ]
     },
     "execution_count": 5,
     "metadata": {},
     "output_type": "execute_result"
    }
   ],
   "source": [
    "# Print the first five rows of the data\n",
    "____ # Your code here\n",
    "candy_data.head()"
   ]
  },
  {
   "cell_type": "markdown",
   "id": "6f9e2059",
   "metadata": {
    "papermill": {
     "duration": 0.006939,
     "end_time": "2022-08-14T00:27:55.477584",
     "exception": false,
     "start_time": "2022-08-14T00:27:55.470645",
     "status": "completed"
    },
    "tags": []
   },
   "source": [
    "The dataset contains 83 rows, where each corresponds to a different candy bar.  There are 13 columns:\n",
    "- `'competitorname'` contains the name of the candy bar. \n",
    "- the next **9** columns (from `'chocolate'` to `'pluribus'`) describe the candy.  For instance, rows with chocolate candies have `\"Yes\"` in the `'chocolate'` column (and candies without chocolate have `\"No\"` in the same column).\n",
    "- `'sugarpercent'` provides some indication of the amount of sugar, where higher values signify higher sugar content.\n",
    "- `'pricepercent'` shows the price per unit, relative to the other candies in the dataset.\n",
    "- `'winpercent'` is calculated from the survey results; higher values indicate that the candy was more popular with survey respondents.\n",
    "\n",
    "Use the first five rows of the data to answer the questions below."
   ]
  },
  {
   "cell_type": "code",
   "execution_count": 6,
   "id": "2277b09b",
   "metadata": {
    "execution": {
     "iopub.execute_input": "2022-08-14T00:27:55.496825Z",
     "iopub.status.busy": "2022-08-14T00:27:55.495760Z",
     "iopub.status.idle": "2022-08-14T00:27:55.503139Z",
     "shell.execute_reply": "2022-08-14T00:27:55.502534Z"
    },
    "papermill": {
     "duration": 0.018878,
     "end_time": "2022-08-14T00:27:55.505265",
     "exception": false,
     "start_time": "2022-08-14T00:27:55.486387",
     "status": "completed"
    },
    "tags": []
   },
   "outputs": [
    {
     "data": {
      "application/javascript": [
       "parent.postMessage({\"jupyterEvent\": \"custom.exercise_interaction\", \"data\": {\"outcomeType\": 1, \"valueTowardsCompletion\": 0.3333333333333333, \"interactionType\": 1, \"questionType\": 1, \"questionId\": \"2_ReviewData\", \"learnToolsVersion\": \"0.3.4\", \"failureMessage\": \"\", \"exceptionClass\": \"\", \"trace\": \"\"}}, \"*\")"
      ],
      "text/plain": [
       "<IPython.core.display.Javascript object>"
      ]
     },
     "metadata": {},
     "output_type": "display_data"
    },
    {
     "data": {
      "text/markdown": [
       "<span style=\"color:#33cc33\">Correct</span>"
      ],
      "text/plain": [
       "Correct"
      ]
     },
     "metadata": {},
     "output_type": "display_data"
    }
   ],
   "source": [
    "# Fill in the line below: Which candy was more popular with survey respondents:\n",
    "# '3 Musketeers' or 'Almond Joy'?  (Please enclose your answer in single quotes.)\n",
    "more_popular = '3 Musketeers'\n",
    "\n",
    "# Fill in the line below: Which candy has higher sugar content: 'Air Heads'\n",
    "# or 'Baby Ruth'? (Please enclose your answer in single quotes.)\n",
    "more_sugar = 'Air Heads'\n",
    "\n",
    "# Check your answers\n",
    "step_2.check()"
   ]
  },
  {
   "cell_type": "code",
   "execution_count": 7,
   "id": "7d336003",
   "metadata": {
    "execution": {
     "iopub.execute_input": "2022-08-14T00:27:55.522569Z",
     "iopub.status.busy": "2022-08-14T00:27:55.522250Z",
     "iopub.status.idle": "2022-08-14T00:27:55.526658Z",
     "shell.execute_reply": "2022-08-14T00:27:55.525274Z"
    },
    "papermill": {
     "duration": 0.01578,
     "end_time": "2022-08-14T00:27:55.529148",
     "exception": false,
     "start_time": "2022-08-14T00:27:55.513368",
     "status": "completed"
    },
    "tags": []
   },
   "outputs": [],
   "source": [
    "# Lines below will give you a hint or solution code\n",
    "#step_2.hint()\n",
    "#step_2.solution()"
   ]
  },
  {
   "cell_type": "markdown",
   "id": "79aaac96",
   "metadata": {
    "papermill": {
     "duration": 0.007202,
     "end_time": "2022-08-14T00:27:55.544399",
     "exception": false,
     "start_time": "2022-08-14T00:27:55.537197",
     "status": "completed"
    },
    "tags": []
   },
   "source": [
    "## Step 3: The role of sugar\n",
    "\n",
    "Do people tend to prefer candies with higher sugar content?  \n",
    "\n",
    "#### Part A\n",
    "\n",
    "Create a scatter plot that shows the relationship between `'sugarpercent'` (on the horizontal x-axis) and `'winpercent'` (on the vertical y-axis).  _Don't add a regression line just yet -- you'll do that in the next step!_"
   ]
  },
  {
   "cell_type": "code",
   "execution_count": 8,
   "id": "6274c7fc",
   "metadata": {
    "execution": {
     "iopub.execute_input": "2022-08-14T00:27:55.561106Z",
     "iopub.status.busy": "2022-08-14T00:27:55.560680Z",
     "iopub.status.idle": "2022-08-14T00:27:55.778099Z",
     "shell.execute_reply": "2022-08-14T00:27:55.776652Z"
    },
    "papermill": {
     "duration": 0.228296,
     "end_time": "2022-08-14T00:27:55.780203",
     "exception": false,
     "start_time": "2022-08-14T00:27:55.551907",
     "status": "completed"
    },
    "tags": []
   },
   "outputs": [
    {
     "data": {
      "application/javascript": [
       "parent.postMessage({\"jupyterEvent\": \"custom.exercise_interaction\", \"data\": {\"outcomeType\": 1, \"valueTowardsCompletion\": 0.3333333333333333, \"interactionType\": 1, \"questionType\": 2, \"questionId\": \"3.1_PlotBlueScatter\", \"learnToolsVersion\": \"0.3.4\", \"failureMessage\": \"\", \"exceptionClass\": \"\", \"trace\": \"\"}}, \"*\")"
      ],
      "text/plain": [
       "<IPython.core.display.Javascript object>"
      ]
     },
     "metadata": {},
     "output_type": "display_data"
    },
    {
     "data": {
      "text/markdown": [
       "<span style=\"color:#33cc33\">Correct</span>"
      ],
      "text/plain": [
       "Correct"
      ]
     },
     "metadata": {},
     "output_type": "display_data"
    },
    {
     "data": {
      "image/png": "[encoded data removed]",
      "text/plain": [
       "<Figure size 1152x432 with 1 Axes>"
      ]
     },
     "metadata": {
      "needs_background": "light"
     },
     "output_type": "display_data"
    }
   ],
   "source": [
    "# Scatter plot showing the relationship between 'sugarpercent' and 'winpercent'\n",
    "____ # Your code here\n",
    "plt.figure(figsize = (16,6))\n",
    "sns.scatterplot(x = candy_data['sugarpercent'] , y = candy_data['winpercent'])\n",
    "# Check your answer\n",
    "step_3.a.check()"
   ]
  },
  {
   "cell_type": "code",
   "execution_count": 9,
   "id": "c42c1728",
   "metadata": {
    "execution": {
     "iopub.execute_input": "2022-08-14T00:27:55.805729Z",
     "iopub.status.busy": "2022-08-14T00:27:55.805401Z",
     "iopub.status.idle": "2022-08-14T00:27:55.809252Z",
     "shell.execute_reply": "2022-08-14T00:27:55.808490Z"
    },
    "papermill": {
     "duration": 0.020664,
     "end_time": "2022-08-14T00:27:55.811226",
     "exception": false,
     "start_time": "2022-08-14T00:27:55.790562",
     "status": "completed"
    },
    "tags": []
   },
   "outputs": [],
   "source": [
    "# Lines below will give you a hint or solution code\n",
    "#step_3.a.hint()\n",
    "#step_3.a.solution_plot()"
   ]
  },
  {
   "cell_type": "markdown",
   "id": "40145900",
   "metadata": {
    "papermill": {
     "duration": 0.010218,
     "end_time": "2022-08-14T00:27:55.830277",
     "exception": false,
     "start_time": "2022-08-14T00:27:55.820059",
     "status": "completed"
    },
    "tags": []
   },
   "source": [
    "#### Part B\n",
    "\n",
    "Does the scatter plot show a **strong** correlation between the two variables?  If so, are candies with more sugar relatively more or less popular with the survey respondents?"
   ]
  },
  {
   "cell_type": "code",
   "execution_count": 10,
   "id": "5e1c16b1",
   "metadata": {
    "execution": {
     "iopub.execute_input": "2022-08-14T00:27:55.850180Z",
     "iopub.status.busy": "2022-08-14T00:27:55.849776Z",
     "iopub.status.idle": "2022-08-14T00:27:55.853993Z",
     "shell.execute_reply": "2022-08-14T00:27:55.853014Z"
    },
    "papermill": {
     "duration": 0.016415,
     "end_time": "2022-08-14T00:27:55.856197",
     "exception": false,
     "start_time": "2022-08-14T00:27:55.839782",
     "status": "completed"
    },
    "tags": []
   },
   "outputs": [],
   "source": [
    "#step_3.b.hint()"
   ]
  },
  {
   "cell_type": "code",
   "execution_count": 11,
   "id": "54d5eadc",
   "metadata": {
    "execution": {
     "iopub.execute_input": "2022-08-14T00:27:55.878227Z",
     "iopub.status.busy": "2022-08-14T00:27:55.876951Z",
     "iopub.status.idle": "2022-08-14T00:27:55.885536Z",
     "shell.execute_reply": "2022-08-14T00:27:55.884895Z"
    },
    "papermill": {
     "duration": 0.021242,
     "end_time": "2022-08-14T00:27:55.887291",
     "exception": false,
     "start_time": "2022-08-14T00:27:55.866049",
     "status": "completed"
    },
    "tags": []
   },
   "outputs": [
    {
     "data": {
      "application/javascript": [
       "parent.postMessage({\"jupyterEvent\": \"custom.exercise_interaction\", \"data\": {\"interactionType\": 3, \"questionType\": 4, \"questionId\": \"3.2_ThinkBlueScatter\", \"learnToolsVersion\": \"0.3.4\", \"valueTowardsCompletion\": 0.0, \"failureMessage\": \"\", \"exceptionClass\": \"\", \"trace\": \"\", \"outcomeType\": 4}}, \"*\")"
      ],
      "text/plain": [
       "<IPython.core.display.Javascript object>"
      ]
     },
     "metadata": {},
     "output_type": "display_data"
    },
    {
     "data": {
      "text/markdown": [
       "<span style=\"color:#33cc99\">Solution:</span> The scatter plot does not show a strong correlation between the two variables. Since there is no clear relationship between the two variables, this tells us that sugar content does not play a strong role in candy popularity."
      ],
      "text/plain": [
       "Solution: The scatter plot does not show a strong correlation between the two variables. Since there is no clear relationship between the two variables, this tells us that sugar content does not play a strong role in candy popularity."
      ]
     },
     "metadata": {},
     "output_type": "display_data"
    }
   ],
   "source": [
    "# Check your answer (Run this code cell to receive credit!)\n",
    "step_3.b.solution()"
   ]
  },
  {
   "cell_type": "markdown",
   "id": "ff1d67df",
   "metadata": {
    "papermill": {
     "duration": 0.008447,
     "end_time": "2022-08-14T00:27:55.904422",
     "exception": false,
     "start_time": "2022-08-14T00:27:55.895975",
     "status": "completed"
    },
    "tags": []
   },
   "source": [
    "## Step 4: Take a closer look\n",
    "\n",
    "#### Part A\n",
    "\n",
    "Create the same scatter plot you created in **Step 3**, but now with a regression line!"
   ]
  },
  {
   "cell_type": "code",
   "execution_count": 12,
   "id": "22dda3c5",
   "metadata": {
    "execution": {
     "iopub.execute_input": "2022-08-14T00:27:55.925548Z",
     "iopub.status.busy": "2022-08-14T00:27:55.925215Z",
     "iopub.status.idle": "2022-08-14T00:27:56.194976Z",
     "shell.execute_reply": "2022-08-14T00:27:56.194130Z"
    },
    "papermill": {
     "duration": 0.283488,
     "end_time": "2022-08-14T00:27:56.196783",
     "exception": false,
     "start_time": "2022-08-14T00:27:55.913295",
     "status": "completed"
    },
    "tags": []
   },
   "outputs": [
    {
     "data": {
      "application/javascript": [
       "parent.postMessage({\"jupyterEvent\": \"custom.exercise_interaction\", \"data\": {\"outcomeType\": 1, \"valueTowardsCompletion\": 0.3333333333333333, \"interactionType\": 1, \"questionType\": 2, \"questionId\": \"4.1_PlotBlueReg\", \"learnToolsVersion\": \"0.3.4\", \"failureMessage\": \"\", \"exceptionClass\": \"\", \"trace\": \"\"}}, \"*\")"
      ],
      "text/plain": [
       "<IPython.core.display.Javascript object>"
      ]
     },
     "metadata": {},
     "output_type": "display_data"
    },
    {
     "data": {
      "text/markdown": [
       "<span style=\"color:#33cc33\">Correct</span>"
      ],
      "text/plain": [
       "Correct"
      ]
     },
     "metadata": {},
     "output_type": "display_data"
    },
    {
     "data": {
      "image/png": "[encoded data removed]",
      "text/plain": [
       "<Figure size 1152x432 with 1 Axes>"
      ]
     },
     "metadata": {
      "needs_background": "light"
     },
     "output_type": "display_data"
    }
   ],
   "source": [
    "# Scatter plot w/ regression line showing the relationship between 'sugarpercent' and 'winpercent'\n",
    "____ # Your code here\n",
    "plt.figure(figsize = (16,6))\n",
    "sns.regplot(x = candy_data['sugarpercent'] , y = candy_data['winpercent'])\n",
    "# Check your answer\n",
    "step_4.a.check()"
   ]
  },
  {
   "cell_type": "code",
   "execution_count": 13,
   "id": "8f64f4df",
   "metadata": {
    "execution": {
     "iopub.execute_input": "2022-08-14T00:27:56.217683Z",
     "iopub.status.busy": "2022-08-14T00:27:56.217382Z",
     "iopub.status.idle": "2022-08-14T00:27:56.221072Z",
     "shell.execute_reply": "2022-08-14T00:27:56.220457Z"
    },
    "papermill": {
     "duration": 0.015068,
     "end_time": "2022-08-14T00:27:56.222707",
     "exception": false,
     "start_time": "2022-08-14T00:27:56.207639",
     "status": "completed"
    },
    "tags": []
   },
   "outputs": [],
   "source": [
    "# Lines below will give you a hint or solution code\n",
    "#step_4.a.hint()\n",
    "#step_4.a.solution_plot()"
   ]
  },
  {
   "cell_type": "markdown",
   "id": "5d1f4f83",
   "metadata": {
    "papermill": {
     "duration": 0.008579,
     "end_time": "2022-08-14T00:27:56.240276",
     "exception": false,
     "start_time": "2022-08-14T00:27:56.231697",
     "status": "completed"
    },
    "tags": []
   },
   "source": [
    "#### Part B\n",
    "\n",
    "According to the plot above, is there a **slight** correlation between `'winpercent'` and `'sugarpercent'`?  What does this tell you about the candy that people tend to prefer?"
   ]
  },
  {
   "cell_type": "code",
   "execution_count": 14,
   "id": "f384d377",
   "metadata": {
    "execution": {
     "iopub.execute_input": "2022-08-14T00:27:56.259267Z",
     "iopub.status.busy": "2022-08-14T00:27:56.258992Z",
     "iopub.status.idle": "2022-08-14T00:27:56.262167Z",
     "shell.execute_reply": "2022-08-14T00:27:56.261350Z"
    },
    "papermill": {
     "duration": 0.014919,
     "end_time": "2022-08-14T00:27:56.264008",
     "exception": false,
     "start_time": "2022-08-14T00:27:56.249089",
     "status": "completed"
    },
    "tags": []
   },
   "outputs": [],
   "source": [
    "#step_4.b.hint()"
   ]
  },
  {
   "cell_type": "code",
   "execution_count": 15,
   "id": "5166158c",
   "metadata": {
    "execution": {
     "iopub.execute_input": "2022-08-14T00:27:56.284483Z",
     "iopub.status.busy": "2022-08-14T00:27:56.283835Z",
     "iopub.status.idle": "2022-08-14T00:27:56.290862Z",
     "shell.execute_reply": "2022-08-14T00:27:56.290030Z"
    },
    "papermill": {
     "duration": 0.018838,
     "end_time": "2022-08-14T00:27:56.292543",
     "exception": false,
     "start_time": "2022-08-14T00:27:56.273705",
     "status": "completed"
    },
    "tags": []
   },
   "outputs": [
    {
     "data": {
      "application/javascript": [
       "parent.postMessage({\"jupyterEvent\": \"custom.exercise_interaction\", \"data\": {\"interactionType\": 3, \"questionType\": 4, \"questionId\": \"4.2_ThinkBlueReg\", \"learnToolsVersion\": \"0.3.4\", \"valueTowardsCompletion\": 0.0, \"failureMessage\": \"\", \"exceptionClass\": \"\", \"trace\": \"\", \"outcomeType\": 4}}, \"*\")"
      ],
      "text/plain": [
       "<IPython.core.display.Javascript object>"
      ]
     },
     "metadata": {},
     "output_type": "display_data"
    },
    {
     "data": {
      "text/markdown": [
       "<span style=\"color:#33cc99\">Solution:</span> Since the regression line has a slightly positive slope, this tells us that there is a slightly positive correlation between `'winpercent'` and `'sugarpercent'`. Thus, people have a slight preference for candies containing relatively more sugar."
      ],
      "text/plain": [
       "Solution: Since the regression line has a slightly positive slope, this tells us that there is a slightly positive correlation between `'winpercent'` and `'sugarpercent'`. Thus, people have a slight preference for candies containing relatively more sugar."
      ]
     },
     "metadata": {},
     "output_type": "display_data"
    }
   ],
   "source": [
    "# Check your answer (Run this code cell to receive credit!)\n",
    "step_4.b.solution()"
   ]
  },
  {
   "cell_type": "markdown",
   "id": "32b9687b",
   "metadata": {
    "papermill": {
     "duration": 0.00904,
     "end_time": "2022-08-14T00:27:56.311194",
     "exception": false,
     "start_time": "2022-08-14T00:27:56.302154",
     "status": "completed"
    },
    "tags": []
   },
   "source": [
    "## Step 5: Chocolate!\n",
    "\n",
    "In the code cell below, create a scatter plot to show the relationship between `'pricepercent'` (on the horizontal x-axis) and `'winpercent'` (on the vertical y-axis). Use the `'chocolate'` column to color-code the points.  _Don't add any regression lines just yet -- you'll do that in the next step!_"
   ]
  },
  {
   "cell_type": "code",
   "execution_count": 16,
   "id": "8af90cf8",
   "metadata": {
    "execution": {
     "iopub.execute_input": "2022-08-14T00:27:56.331011Z",
     "iopub.status.busy": "2022-08-14T00:27:56.330658Z",
     "iopub.status.idle": "2022-08-14T00:27:56.509848Z",
     "shell.execute_reply": "2022-08-14T00:27:56.508996Z"
    },
    "papermill": {
     "duration": 0.191685,
     "end_time": "2022-08-14T00:27:56.511907",
     "exception": false,
     "start_time": "2022-08-14T00:27:56.320222",
     "status": "completed"
    },
    "tags": []
   },
   "outputs": [
    {
     "data": {
      "application/javascript": [
       "parent.postMessage({\"jupyterEvent\": \"custom.exercise_interaction\", \"data\": {\"outcomeType\": 1, \"valueTowardsCompletion\": 0.3333333333333333, \"interactionType\": 1, \"questionType\": 2, \"questionId\": \"5_ColorScatter\", \"learnToolsVersion\": \"0.3.4\", \"failureMessage\": \"\", \"exceptionClass\": \"\", \"trace\": \"\"}}, \"*\")"
      ],
      "text/plain": [
       "<IPython.core.display.Javascript object>"
      ]
     },
     "metadata": {},
     "output_type": "display_data"
    },
    {
     "data": {
      "text/markdown": [
       "<span style=\"color:#33cc33\">Correct</span>"
      ],
      "text/plain": [
       "Correct"
      ]
     },
     "metadata": {},
     "output_type": "display_data"
    },
    {
     "data": {
      "image/png": "[encoded data removed]",
      "text/plain": [
       "<Figure size 1152x432 with 1 Axes>"
      ]
     },
     "metadata": {
      "needs_background": "light"
     },
     "output_type": "display_data"
    }
   ],
   "source": [
    "# Scatter plot showing the relationship between 'pricepercent', 'winpercent', and 'chocolate'\n",
    "____ # Your code here\n",
    "plt.figure(figsize = (16,6))\n",
    "sns.scatterplot(x = candy_data['pricepercent'] , y = candy_data['winpercent'] ,hue = candy_data['chocolate'])\n",
    "# Check your answer\n",
    "step_5.check()"
   ]
  },
  {
   "cell_type": "code",
   "execution_count": 17,
   "id": "447152f0",
   "metadata": {
    "execution": {
     "iopub.execute_input": "2022-08-14T00:27:56.533995Z",
     "iopub.status.busy": "2022-08-14T00:27:56.533672Z",
     "iopub.status.idle": "2022-08-14T00:27:56.539483Z",
     "shell.execute_reply": "2022-08-14T00:27:56.538777Z"
    },
    "papermill": {
     "duration": 0.018792,
     "end_time": "2022-08-14T00:27:56.541254",
     "exception": false,
     "start_time": "2022-08-14T00:27:56.522462",
     "status": "completed"
    },
    "tags": []
   },
   "outputs": [],
   "source": [
    "# Lines below will give you a hint or solution code\n",
    "#step_5.hint()\n",
    "#step_5.solution_plot()"
   ]
  },
  {
   "cell_type": "markdown",
   "id": "bfd343b7",
   "metadata": {
    "papermill": {
     "duration": 0.009383,
     "end_time": "2022-08-14T00:27:56.560412",
     "exception": false,
     "start_time": "2022-08-14T00:27:56.551029",
     "status": "completed"
    },
    "tags": []
   },
   "source": [
    "Can you see any interesting patterns in the scatter plot?  We'll investigate this plot further  by adding regression lines in the next step!\n",
    "\n",
    "## Step 6: Investigate chocolate\n",
    "\n",
    "#### Part A\n",
    "\n",
    "Create the same scatter plot you created in **Step 5**, but now with two regression lines, corresponding to (1) chocolate candies and (2) candies without chocolate."
   ]
  },
  {
   "cell_type": "code",
   "execution_count": 18,
   "id": "ab79a675",
   "metadata": {
    "execution": {
     "iopub.execute_input": "2022-08-14T00:27:56.580763Z",
     "iopub.status.busy": "2022-08-14T00:27:56.580506Z",
     "iopub.status.idle": "2022-08-14T00:27:57.007841Z",
     "shell.execute_reply": "2022-08-14T00:27:57.006869Z"
    },
    "papermill": {
     "duration": 0.439712,
     "end_time": "2022-08-14T00:27:57.009625",
     "exception": false,
     "start_time": "2022-08-14T00:27:56.569913",
     "status": "completed"
    },
    "tags": []
   },
   "outputs": [
    {
     "data": {
      "application/javascript": [
       "parent.postMessage({\"jupyterEvent\": \"custom.exercise_interaction\", \"data\": {\"outcomeType\": 1, \"valueTowardsCompletion\": 0.3333333333333333, \"interactionType\": 1, \"questionType\": 2, \"questionId\": \"6.1_PlotColorReg\", \"learnToolsVersion\": \"0.3.4\", \"failureMessage\": \"\", \"exceptionClass\": \"\", \"trace\": \"\"}}, \"*\")"
      ],
      "text/plain": [
       "<IPython.core.display.Javascript object>"
      ]
     },
     "metadata": {},
     "output_type": "display_data"
    },
    {
     "data": {
      "text/markdown": [
       "<span style=\"color:#33cc33\">Correct</span>"
      ],
      "text/plain": [
       "Correct"
      ]
     },
     "metadata": {},
     "output_type": "display_data"
    },
    {
     "data": {
      "image/png": "[encoded data removed]",
      "text/plain": [
       "<Figure size 416.375x360 with 1 Axes>"
      ]
     },
     "metadata": {
      "needs_background": "light"
     },
     "output_type": "display_data"
    }
   ],
   "source": [
    "# Color-coded scatter plot w/ regression lines\n",
    "____ # Your code here\n",
    "sns.lmplot(x = 'pricepercent' , y = 'winpercent' ,hue = 'chocolate' , data = candy_data)\n",
    "# Check your answer\n",
    "step_6.a.check()"
   ]
  },
  {
   "cell_type": "code",
   "execution_count": 19,
   "id": "7d894f2f",
   "metadata": {
    "execution": {
     "iopub.execute_input": "2022-08-14T00:27:57.031690Z",
     "iopub.status.busy": "2022-08-14T00:27:57.031389Z",
     "iopub.status.idle": "2022-08-14T00:27:57.035286Z",
     "shell.execute_reply": "2022-08-14T00:27:57.034475Z"
    },
    "papermill": {
     "duration": 0.016909,
     "end_time": "2022-08-14T00:27:57.036930",
     "exception": false,
     "start_time": "2022-08-14T00:27:57.020021",
     "status": "completed"
    },
    "tags": []
   },
   "outputs": [],
   "source": [
    "# Lines below will give you a hint or solution code\n",
    "#step_6.a.hint()\n",
    "#step_6.a.solution_plot()"
   ]
  },
  {
   "cell_type": "markdown",
   "id": "e15305be",
   "metadata": {
    "papermill": {
     "duration": 0.009718,
     "end_time": "2022-08-14T00:27:57.056921",
     "exception": false,
     "start_time": "2022-08-14T00:27:57.047203",
     "status": "completed"
    },
    "tags": []
   },
   "source": [
    "#### Part B\n",
    "\n",
    "Using the regression lines, what conclusions can you draw about the effects of chocolate and price on candy popularity?"
   ]
  },
  {
   "cell_type": "code",
   "execution_count": 20,
   "id": "c1d3aff4",
   "metadata": {
    "execution": {
     "iopub.execute_input": "2022-08-14T00:27:57.078914Z",
     "iopub.status.busy": "2022-08-14T00:27:57.078127Z",
     "iopub.status.idle": "2022-08-14T00:27:57.081988Z",
     "shell.execute_reply": "2022-08-14T00:27:57.081316Z"
    },
    "papermill": {
     "duration": 0.016665,
     "end_time": "2022-08-14T00:27:57.083764",
     "exception": false,
     "start_time": "2022-08-14T00:27:57.067099",
     "status": "completed"
    },
    "tags": []
   },
   "outputs": [],
   "source": [
    "#step_6.b.hint()"
   ]
  },
  {
   "cell_type": "code",
   "execution_count": 21,
   "id": "ab8139c5",
   "metadata": {
    "execution": {
     "iopub.execute_input": "2022-08-14T00:27:57.105922Z",
     "iopub.status.busy": "2022-08-14T00:27:57.105109Z",
     "iopub.status.idle": "2022-08-14T00:27:57.112050Z",
     "shell.execute_reply": "2022-08-14T00:27:57.111364Z"
    },
    "papermill": {
     "duration": 0.019584,
     "end_time": "2022-08-14T00:27:57.113688",
     "exception": false,
     "start_time": "2022-08-14T00:27:57.094104",
     "status": "completed"
    },
    "tags": []
   },
   "outputs": [
    {
     "data": {
      "application/javascript": [
       "parent.postMessage({\"jupyterEvent\": \"custom.exercise_interaction\", \"data\": {\"interactionType\": 3, \"questionType\": 4, \"questionId\": \"6.2_ThinkColorReg\", \"learnToolsVersion\": \"0.3.4\", \"valueTowardsCompletion\": 0.0, \"failureMessage\": \"\", \"exceptionClass\": \"\", \"trace\": \"\", \"outcomeType\": 4}}, \"*\")"
      ],
      "text/plain": [
       "<IPython.core.display.Javascript object>"
      ]
     },
     "metadata": {},
     "output_type": "display_data"
    },
    {
     "data": {
      "text/markdown": [
       "<span style=\"color:#33cc99\">Solution:</span> We'll begin with the regression line for chocolate candies. Since this line has a slightly positive slope, we can say that more expensive chocolate candies tend to be more popular (than relatively cheaper chocolate candies).  Likewise, since the regression line for candies without chocolate has a negative slope, we can say that if candies don't contain chocolate, they tend to be more popular when they are cheaper.  One important note, however, is that the dataset is quite small -- so we shouldn't invest too much trust in these patterns!  To inspire more confidence in the results, we should add more candies to the dataset."
      ],
      "text/plain": [
       "Solution: We'll begin with the regression line for chocolate candies. Since this line has a slightly positive slope, we can say that more expensive chocolate candies tend to be more popular (than relatively cheaper chocolate candies).  Likewise, since the regression line for candies without chocolate has a negative slope, we can say that if candies don't contain chocolate, they tend to be more popular when they are cheaper.  One important note, however, is that the dataset is quite small -- so we shouldn't invest too much trust in these patterns!  To inspire more confidence in the results, we should add more candies to the dataset."
      ]
     },
     "metadata": {},
     "output_type": "display_data"
    }
   ],
   "source": [
    "# Check your answer (Run this code cell to receive credit!)\n",
    "step_6.b.solution()"
   ]
  },
  {
   "cell_type": "markdown",
   "id": "3cf16e20",
   "metadata": {
    "papermill": {
     "duration": 0.009924,
     "end_time": "2022-08-14T00:27:57.134092",
     "exception": false,
     "start_time": "2022-08-14T00:27:57.124168",
     "status": "completed"
    },
    "tags": []
   },
   "source": [
    "## Step 7: Everybody loves chocolate.\n",
    "\n",
    "#### Part A\n",
    "\n",
    "Create a categorical scatter plot to highlight the relationship between `'chocolate'` and `'winpercent'`.  Put `'chocolate'` on the (horizontal) x-axis, and `'winpercent'` on the (vertical) y-axis."
   ]
  },
  {
   "cell_type": "code",
   "execution_count": 22,
   "id": "6ff3db72",
   "metadata": {
    "execution": {
     "iopub.execute_input": "2022-08-14T00:27:57.156151Z",
     "iopub.status.busy": "2022-08-14T00:27:57.155445Z",
     "iopub.status.idle": "2022-08-14T00:27:57.267253Z",
     "shell.execute_reply": "2022-08-14T00:27:57.266550Z"
    },
    "papermill": {
     "duration": 0.124835,
     "end_time": "2022-08-14T00:27:57.269087",
     "exception": false,
     "start_time": "2022-08-14T00:27:57.144252",
     "status": "completed"
    },
    "tags": []
   },
   "outputs": [
    {
     "data": {
      "application/javascript": [
       "parent.postMessage({\"jupyterEvent\": \"custom.exercise_interaction\", \"data\": {\"outcomeType\": 1, \"valueTowardsCompletion\": 0.3333333333333333, \"interactionType\": 1, \"questionType\": 2, \"questionId\": \"7.1_PlotSwarm\", \"learnToolsVersion\": \"0.3.4\", \"failureMessage\": \"\", \"exceptionClass\": \"\", \"trace\": \"\"}}, \"*\")"
      ],
      "text/plain": [
       "<IPython.core.display.Javascript object>"
      ]
     },
     "metadata": {},
     "output_type": "display_data"
    },
    {
     "data": {
      "text/markdown": [
       "<span style=\"color:#33cc33\">Correct</span>"
      ],
      "text/plain": [
       "Correct"
      ]
     },
     "metadata": {},
     "output_type": "display_data"
    },
    {
     "data": {
      "image/png": "[encoded data removed]",
      "text/plain": [
       "<Figure size 432x288 with 1 Axes>"
      ]
     },
     "metadata": {
      "needs_background": "light"
     },
     "output_type": "display_data"
    }
   ],
   "source": [
    "# Scatter plot showing the relationship between 'chocolate' and 'winpercent'\n",
    "____ # Your code here\n",
    "sns.swarmplot(x = 'chocolate' , y = 'winpercent' , data = candy_data)\n",
    "# Check your answer\n",
    "step_7.a.check()"
   ]
  },
  {
   "cell_type": "code",
   "execution_count": 23,
   "id": "d9d9fcaa",
   "metadata": {
    "execution": {
     "iopub.execute_input": "2022-08-14T00:27:57.300657Z",
     "iopub.status.busy": "2022-08-14T00:27:57.300070Z",
     "iopub.status.idle": "2022-08-14T00:27:57.303420Z",
     "shell.execute_reply": "2022-08-14T00:27:57.302818Z"
    },
    "papermill": {
     "duration": 0.021421,
     "end_time": "2022-08-14T00:27:57.305332",
     "exception": false,
     "start_time": "2022-08-14T00:27:57.283911",
     "status": "completed"
    },
    "tags": []
   },
   "outputs": [],
   "source": [
    "# Lines below will give you a hint or solution code\n",
    "#step_7.a.hint()\n",
    "#step_7.a.solution_plot()"
   ]
  },
  {
   "cell_type": "markdown",
   "id": "336cd751",
   "metadata": {
    "papermill": {
     "duration": 0.010372,
     "end_time": "2022-08-14T00:27:57.327750",
     "exception": false,
     "start_time": "2022-08-14T00:27:57.317378",
     "status": "completed"
    },
    "tags": []
   },
   "source": [
    "#### Part B\n",
    "\n",
    "You decide to dedicate a section of your report to the fact that chocolate candies tend to be more popular than candies without chocolate.  Which plot is more appropriate to tell this story: the plot from **Step 6**, or the plot from **Step 7**?"
   ]
  },
  {
   "cell_type": "code",
   "execution_count": 24,
   "id": "979b2a88",
   "metadata": {
    "execution": {
     "iopub.execute_input": "2022-08-14T00:27:57.350558Z",
     "iopub.status.busy": "2022-08-14T00:27:57.350078Z",
     "iopub.status.idle": "2022-08-14T00:27:57.354363Z",
     "shell.execute_reply": "2022-08-14T00:27:57.353849Z"
    },
    "papermill": {
     "duration": 0.017623,
     "end_time": "2022-08-14T00:27:57.356005",
     "exception": false,
     "start_time": "2022-08-14T00:27:57.338382",
     "status": "completed"
    },
    "tags": []
   },
   "outputs": [],
   "source": [
    "#step_7.b.hint()"
   ]
  },
  {
   "cell_type": "code",
   "execution_count": 25,
   "id": "b1170813",
   "metadata": {
    "execution": {
     "iopub.execute_input": "2022-08-14T00:27:57.379232Z",
     "iopub.status.busy": "2022-08-14T00:27:57.378673Z",
     "iopub.status.idle": "2022-08-14T00:27:57.385225Z",
     "shell.execute_reply": "2022-08-14T00:27:57.384685Z"
    },
    "papermill": {
     "duration": 0.019778,
     "end_time": "2022-08-14T00:27:57.386784",
     "exception": false,
     "start_time": "2022-08-14T00:27:57.367006",
     "status": "completed"
    },
    "tags": []
   },
   "outputs": [
    {
     "data": {
      "application/javascript": [
       "parent.postMessage({\"jupyterEvent\": \"custom.exercise_interaction\", \"data\": {\"interactionType\": 3, \"questionType\": 4, \"questionId\": \"7.2_ThinkSwarm\", \"learnToolsVersion\": \"0.3.4\", \"valueTowardsCompletion\": 0.0, \"failureMessage\": \"\", \"exceptionClass\": \"\", \"trace\": \"\", \"outcomeType\": 4}}, \"*\")"
      ],
      "text/plain": [
       "<IPython.core.display.Javascript object>"
      ]
     },
     "metadata": {},
     "output_type": "display_data"
    },
    {
     "data": {
      "text/markdown": [
       "<span style=\"color:#33cc99\">Solution:</span> In this case, the categorical scatter plot from **Step 7** is the more appropriate plot. While both plots tell the desired story, the plot from **Step 6** conveys far more information that could distract from the main point."
      ],
      "text/plain": [
       "Solution: In this case, the categorical scatter plot from **Step 7** is the more appropriate plot. While both plots tell the desired story, the plot from **Step 6** conveys far more information that could distract from the main point."
      ]
     },
     "metadata": {},
     "output_type": "display_data"
    }
   ],
   "source": [
    "# Check your answer (Run this code cell to receive credit!)\n",
    "step_7.b.solution()"
   ]
  },
  {
   "cell_type": "markdown",
   "id": "5e9feeeb",
   "metadata": {
    "papermill": {
     "duration": 0.010581,
     "end_time": "2022-08-14T00:27:57.408284",
     "exception": false,
     "start_time": "2022-08-14T00:27:57.397703",
     "status": "completed"
    },
    "tags": []
   },
   "source": [
    "## Keep going\n",
    "\n",
    "Explore **[histograms and density plots](https://www.kaggle.com/alexisbcook/distributions)**."
   ]
  },
  {
   "cell_type": "markdown",
   "id": "16e3dcdb",
   "metadata": {
    "papermill": {
     "duration": 0.011216,
     "end_time": "2022-08-14T00:27:57.430413",
     "exception": false,
     "start_time": "2022-08-14T00:27:57.419197",
     "status": "completed"
    },
    "tags": []
   },
   "source": [
    "---\n",
    "\n",
    "\n",
    "\n",
    "\n",
    "*Have questions or comments? Visit the [course discussion forum](https://www.kaggle.com/learn/data-visualization/discussion) to chat with other learners.*"
   ]
  }
 ],
 "metadata": {
  "kernelspec": {
   "display_name": "Python 3",
   "language": "python",
   "name": "python3"
  },
  "language_info": {
   "codemirror_mode": {
    "name": "ipython",
    "version": 3
   },
   "file_extension": ".py",
   "mimetype": "text/x-python",
   "name": "python",
   "nbconvert_exporter": "python",
   "pygments_lexer": "ipython3",
   "version": "3.7.12"
  },
  "papermill": {
   "default_parameters": {},
   "duration": 11.417805,
   "end_time": "2022-08-14T00:27:58.060860",
   "environment_variables": {},
   "exception": null,
   "input_path": "__notebook__.ipynb",
   "output_path": "__notebook__.ipynb",
   "parameters": {},
   "start_time": "2022-08-14T00:27:46.643055",
   "version": "2.3.4"
  }
 },
 "nbformat": 4,
 "nbformat_minor": 5
}
